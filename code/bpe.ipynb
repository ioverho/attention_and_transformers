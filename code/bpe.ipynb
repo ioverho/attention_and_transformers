{
 "cells": [
  {
   "cell_type": "code",
   "execution_count": 14,
   "metadata": {},
   "outputs": [],
   "source": [
    "import re\n",
    "from collections import Counter\n",
    "\n",
    "token_freqs = {\n",
    "    \" newest\": 6,\n",
    "    \" low\": 5,\n",
    "    \" widest\": 3,\n",
    "    \" lower\": 2,\n",
    "}"
   ]
  },
  {
   "cell_type": "code",
   "execution_count": 25,
   "metadata": {},
   "outputs": [],
   "source": [
    "chars_freq = Counter()\n",
    "char_pair_freq = Counter()\n",
    "for token, count in token_freqs.items():\n",
    "    for char in token:\n",
    "        chars_freq.update({char: count})\n",
    "        \n",
    "        if char != \" \":\n",
    "            char_pair_freq.update({(prev_char, char): count})\n",
    "            \n",
    "        prev_char = char\n"
   ]
  },
  {
   "cell_type": "code",
   "execution_count": 27,
   "metadata": {},
   "outputs": [
    {
     "data": {
      "text/plain": [
       "[(('e', 's'), 9)]"
      ]
     },
     "execution_count": 27,
     "metadata": {},
     "output_type": "execute_result"
    }
   ],
   "source": [
    "char_pair_freq.most_common(1)"
   ]
  },
  {
   "cell_type": "code",
   "execution_count": 43,
   "metadata": {},
   "outputs": [
    {
     "name": "stdout",
     "output_type": "stream",
     "text": [
      "{'s', 'n', 'h', 'b', 'p', 'g', 'u'} 7\n",
      "('p', 'u') 17\n",
      "{'pu', 's', 'n', 'h', 'b', 'g', 'u'} 7\n",
      "('pu', 'n') 12\n",
      "{'s', 'n', 'h', 'g', 'b', 'pun', 'pu', 'u'} 8\n",
      "('h', 'u') 10\n",
      "{'hu', 's', 'n', 'g', 'b', 'pun', 'pu', 'u'} 8\n",
      "('hu', 'g') 10\n",
      "{'hug', 'pu', 's', 'n', 'b', 'pun', 'g', 'u'} 8\n",
      "('pu', 'g') 5\n",
      "{'hug', 's', 'pug', 'n', 'b', 'pun', 'u'} 7\n",
      "('b', 'u') 5\n",
      "{'hug', 's', 'pug', 'n', 'bu', 'pun'} 6\n",
      "('bu', 'n') 5\n",
      "{'bun', 'hug', 's', 'pug', 'pun'} 5\n",
      "('bun', 's') 5\n",
      "{'hug', 'pun', 'pug', 'buns'} 4\n"
     ]
    },
    {
     "ename": "ValueError",
     "evalue": "max() arg is an empty sequence",
     "output_type": "error",
     "traceback": [
      "\u001b[0;31m---------------------------------------------------------------------------\u001b[0m",
      "\u001b[0;31mValueError\u001b[0m                                Traceback (most recent call last)",
      "Cell \u001b[0;32mIn[43], line 35\u001b[0m\n\u001b[1;32m     33\u001b[0m \u001b[39mfor\u001b[39;00m i \u001b[39min\u001b[39;00m \u001b[39mrange\u001b[39m(num_merges):\n\u001b[1;32m     34\u001b[0m     pairs \u001b[39m=\u001b[39m get_stats(vocab)\n\u001b[0;32m---> 35\u001b[0m     best \u001b[39m=\u001b[39m \u001b[39mmax\u001b[39;49m(pairs, key\u001b[39m=\u001b[39;49mpairs\u001b[39m.\u001b[39;49mget)\n\u001b[1;32m     37\u001b[0m     vocab \u001b[39m=\u001b[39m merge_vocab(best, vocab)\n\u001b[1;32m     39\u001b[0m     characters \u001b[39m=\u001b[39m \u001b[39mset\u001b[39m()\n",
      "\u001b[0;31mValueError\u001b[0m: max() arg is an empty sequence"
     ]
    }
   ],
   "source": [
    "import re, collections\n",
    "def get_stats(vocab):\n",
    "    pairs = collections.defaultdict(int)\n",
    "    for word, freq in vocab.items():\n",
    "        symbols = word.split()\n",
    "        for i in range(len(symbols)-1):\n",
    "            pairs[symbols[i],symbols[i+1]] += freq\n",
    "    return pairs\n",
    "\n",
    "def merge_vocab(pair, v_in):\n",
    "    v_out = {}\n",
    "    bigram = re.escape(' '.join(pair))\n",
    "    p = re.compile(r'(?<!\\S)' + bigram + r'(?!\\S)')\n",
    "    for word in v_in:\n",
    "        w_out = p.sub(''.join(pair), word)\n",
    "        v_out[w_out] = v_in[word]\n",
    "    return v_out\n",
    "\n",
    "vocab = {\n",
    "    'p u n': 12,\n",
    "    'h u g': 10,\n",
    "    'p u g': 5,\n",
    "    'b u n s': 5,\n",
    "}\n",
    "\n",
    "characters = set()\n",
    "for token in vocab:\n",
    "    chars = token.split()\n",
    "    characters.update(chars)\n",
    "print(characters, len(characters))\n",
    "\n",
    "num_merges = 10\n",
    "for i in range(num_merges):\n",
    "    pairs = get_stats(vocab)\n",
    "    best = max(pairs, key=pairs.get)\n",
    "    \n",
    "    vocab = merge_vocab(best, vocab)\n",
    "\n",
    "    characters = set()\n",
    "    for token in vocab:\n",
    "        chars = token.split()\n",
    "        characters.update(chars)\n",
    "\n",
    "    print(best, pairs[best])\n",
    "    print(characters, len(characters))\n"
   ]
  }
 ],
 "metadata": {
  "kernelspec": {
   "display_name": "ml",
   "language": "python",
   "name": "python3"
  },
  "language_info": {
   "codemirror_mode": {
    "name": "ipython",
    "version": 3
   },
   "file_extension": ".py",
   "mimetype": "text/x-python",
   "name": "python",
   "nbconvert_exporter": "python",
   "pygments_lexer": "ipython3",
   "version": "3.10.9"
  },
  "orig_nbformat": 4
 },
 "nbformat": 4,
 "nbformat_minor": 2
}
